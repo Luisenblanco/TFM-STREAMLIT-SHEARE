{
 "cells": [
  {
   "cell_type": "code",
   "execution_count": 1,
   "id": "abf617c4-8e37-4d4c-9348-5c4e411ab3ff",
   "metadata": {},
   "outputs": [],
   "source": [
    "\n",
    "import pandas as pd\n",
    "import numpy as np\n",
    "import streamlit as st\n",
    "import matplotlib.pyplot as plt\n",
    "\n"
   ]
  },
  {
   "cell_type": "code",
   "execution_count": 2,
   "id": "bdbfe662-e606-4449-98ab-e1b069575a52",
   "metadata": {},
   "outputs": [
    {
     "name": "stdout",
     "output_type": "stream",
     "text": [
      "               4510       Equipo Equipo durante el período seleccionado  \\\n",
      "0           B. Sosa         Ajax                                   Ajax   \n",
      "1        S. Bastoni       Empoli                                 Empoli   \n",
      "2         J. Angulo  Tigres UANL                            Tigres UANL   \n",
      "3      Brian Oliván     Espanyol                               Espanyol   \n",
      "4  Álvaro Fernández      Benfica                                Benfica   \n",
      "\n",
      "  Posición específica  Edad  Valor de mercado (Transfermarkt)  \\\n",
      "0                  LB    26                          15000000   \n",
      "1                  LB    27                           7500000   \n",
      "2             LB, LCB    26                           7000000   \n",
      "3                  LB    29                           6000000   \n",
      "4            LB, LAMF    20                           6000000   \n",
      "\n",
      "  Vencimiento contrato  Partidos jugados  Minutos jugados  Goles  ...  \\\n",
      "0           2025-06-30                20             1227      0  ...   \n",
      "1           2025-06-30                11              539      0  ...   \n",
      "2           2025-06-30                36             3357      4  ...   \n",
      "3           2025-06-30                24             1975      0  ...   \n",
      "4           2024-06-30                16              689      0  ...   \n",
      "\n",
      "  Ataque en profundidad/90  Centros desde el último tercio/90  \\\n",
      "0                     0,78                               2,02   \n",
      "1                     0,67                               1,84   \n",
      "2                     0,39                               0,63   \n",
      "3                     0,46                               1,46   \n",
      "4                     1,31                               0,78   \n",
      "\n",
      "  Pases progresivos/90 Precisión pases progresivos, % Tiros libres/90  \\\n",
      "0                 8,33                          84,11            0,31   \n",
      "1                10,52                          66,67             0,5   \n",
      "2                 9,17                          79,88               0   \n",
      "3                 8,52                          69,52            0,41   \n",
      "4                 7,45                          68,42               0   \n",
      "\n",
      "  Tiros libres directos/90 Tiros libres directos, % Córneres/90  \\\n",
      "0                     0,08                      100        0,47   \n",
      "1                     0,33                        0        1,84   \n",
      "2                        0                        0           0   \n",
      "3                     0,14                    33,33        0,96   \n",
      "4                        0                        0        0,26   \n",
      "\n",
      "   Penaltis a favor  Penaltis realizados, %  \n",
      "0                 0                       0  \n",
      "1                 0                       0  \n",
      "2                 0                       0  \n",
      "3                 0                       0  \n",
      "4                 0                       0  \n",
      "\n",
      "[5 rows x 101 columns]\n"
     ]
    }
   ],
   "source": [
    "\n",
    "ruta_excel =\"C:/Users/user/Desktop/TFM-STREAMLIT/Data/Datos_30_LIGAS.csv\"\n",
    "\n",
    "\n",
    "# Carga el archivo Excel y muestra las primeras filas\n",
    "df = pd.read_csv(ruta_excel, encoding='latin', sep=\";\")\n",
    "print(df.head())\n"
   ]
  },
  {
   "cell_type": "code",
   "execution_count": 4,
   "id": "efb08c39-1d20-4a48-a64b-080742ed8774",
   "metadata": {},
   "outputs": [],
   "source": [
    "# Renombrar la columna 4510 a \"Jugador\"\n",
    "df = df.rename(columns={\"4510\": \"Jugador\"})"
   ]
  },
  {
   "cell_type": "code",
   "execution_count": 6,
   "id": "5f413e29-1904-47ef-b54e-ec146e68f899",
   "metadata": {},
   "outputs": [],
   "source": [
    "\n",
    "with st.sidebar.expander(\"🥾⚽ LOS 6 JUGADORES A COMPARAR\"):\n",
    "    nombres_deseados = ['Cote', 'Pablo García', 'Rafel Obrador', 'Pablo Pérez', \"D. van der Kust\", 'S. Laquidaín']\n",
    "\n",
    "    # Multiselect para que el usuario seleccione nombres\n",
    "    nombres_seleccionados = st.multiselect(\"SELECCION DE JUGADORES:⚽\", nombres_deseados)\n",
    "\n",
    "    # Filtrar el DataFrame por los nombres seleccionados\n",
    "    df_filtrado = df[df['Jugador'].isin(nombres_seleccionados)]\n",
    "st.write(df_filtrado)\n"
   ]
  },
  {
   "cell_type": "code",
   "execution_count": 7,
   "id": "1b4b3aff-1668-4499-ad7e-7220ea12930e",
   "metadata": {},
   "outputs": [
    {
     "data": {
      "text/plain": [
       "DeltaGenerator()"
      ]
     },
     "execution_count": 7,
     "metadata": {},
     "output_type": "execute_result"
    }
   ],
   "source": [
    "st.video(\"Video/S. Laquidain.mp4\")\n",
    "st.video(\"Video/D. van der Kust.mp4\")\n",
    "st.video(\"Video/Cote.mp4\")\n",
    "st.video(\"Video/Pablo Garcia.mp4\")\n",
    "st.video(\"Videdo/Rafel Obrador.mp4\")\n",
    "st.video(\"Video/Pablo Garcia.mp4\")"
   ]
  }
 ],
 "metadata": {
  "kernelspec": {
   "display_name": "Python 3 (ipykernel)",
   "language": "python",
   "name": "python3"
  },
  "language_info": {
   "codemirror_mode": {
    "name": "ipython",
    "version": 3
   },
   "file_extension": ".py",
   "mimetype": "text/x-python",
   "name": "python",
   "nbconvert_exporter": "python",
   "pygments_lexer": "ipython3",
   "version": "3.12.2"
  }
 },
 "nbformat": 4,
 "nbformat_minor": 5
}
